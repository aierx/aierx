{
 "cells": [
  {
   "cell_type": "code",
   "execution_count": 10,
   "metadata": {},
   "outputs": [
    {
     "name": "stdout",
     "output_type": "stream",
     "text": [
      "\n"
     ]
    }
   ],
   "source": [
    "from sympy import *\n",
    "init_session(quiet=True)\n"
   ]
  },
  {
   "cell_type": "code",
   "execution_count": 40,
   "metadata": {},
   "outputs": [
    {
     "data": {
      "image/png": "[encoded data removed]",
      "text/latex": [
       "$\\displaystyle x^{2} + 2 x + 1$"
      ],
      "text/plain": [
       " 2          \n",
       "x  + 2⋅x + 1"
      ]
     },
     "execution_count": 40,
     "metadata": {},
     "output_type": "execute_result"
    },
    {
     "data": {
      "image/png": "[encoded data removed]",
      "text/latex": [
       "$\\displaystyle x^{2} + 2 x y + 2 x + y^{2} + 2 y + 1$"
      ],
      "text/plain": [
       " 2                  2          \n",
       "x  + 2⋅x⋅y + 2⋅x + y  + 2⋅y + 1"
      ]
     },
     "execution_count": 40,
     "metadata": {},
     "output_type": "execute_result"
    },
    {
     "data": {
      "image/png": "[encoded data removed]",
      "text/latex": [
       "$\\displaystyle \\left(x + y + 1\\right)^{2}$"
      ],
      "text/plain": [
       "           2\n",
       "(x + y + 1) "
      ]
     },
     "execution_count": 40,
     "metadata": {},
     "output_type": "execute_result"
    },
    {
     "data": {
      "image/png": "[encoded data removed]",
      "text/latex": [
       "$\\displaystyle x^{2} + x \\left(2 y + 2\\right) + y^{2} + 2 y + 1$"
      ],
      "text/plain": [
       " 2                  2          \n",
       "x  + x⋅(2⋅y + 2) + y  + 2⋅y + 1"
      ]
     },
     "execution_count": 40,
     "metadata": {},
     "output_type": "execute_result"
    },
    {
     "data": {
      "image/png": "[encoded data removed]",
      "text/latex": [
       "$\\displaystyle - \\frac{1}{2 \\left(x + 3\\right)} + \\frac{1}{2 \\left(x + 1\\right)}$"
      ],
      "text/plain": [
       "      1           1    \n",
       "- ───────── + ─────────\n",
       "  2⋅(x + 3)   2⋅(x + 1)"
      ]
     },
     "execution_count": 40,
     "metadata": {},
     "output_type": "execute_result"
    },
    {
     "data": {
      "image/png": "[encoded data removed]",
      "text/latex": [
       "$\\displaystyle \\frac{1}{\\left(x + 1\\right) \\left(x + 3\\right)}$"
      ],
      "text/plain": [
       "       1       \n",
       "───────────────\n",
       "(x + 1)⋅(x + 3)"
      ]
     },
     "execution_count": 40,
     "metadata": {},
     "output_type": "execute_result"
    },
    {
     "data": {
      "image/png": "[encoded data removed]",
      "text/latex": [
       "$\\displaystyle \\sin{\\left(2 x \\right)}$"
      ],
      "text/plain": [
       "sin(2⋅x)"
      ]
     },
     "execution_count": 40,
     "metadata": {},
     "output_type": "execute_result"
    },
    {
     "data": {
      "image/png": "[encoded data removed]",
      "text/latex": [
       "$\\displaystyle \\frac{x + 1}{x}$"
      ],
      "text/plain": [
       "x + 1\n",
       "─────\n",
       "  x  "
      ]
     },
     "execution_count": 40,
     "metadata": {},
     "output_type": "execute_result"
    },
    {
     "data": {
      "image/png": "[encoded data removed]",
      "text/latex": [
       "$\\displaystyle \\frac{d^{3}}{d x^{3}} x^{5}$"
      ],
      "text/plain": [
       "  3    \n",
       " d ⎛ 5⎞\n",
       "───⎝x ⎠\n",
       "  3    \n",
       "dx     "
      ]
     },
     "execution_count": 40,
     "metadata": {},
     "output_type": "execute_result"
    },
    {
     "data": {
      "image/png": "[encoded data removed]",
      "text/latex": [
       "$\\displaystyle \\frac{\\partial^{2}}{\\partial x^{2}} \\left(2 x^{2} + 2 x y + 3 y^{4}\\right)$"
      ],
      "text/plain": [
       "  2                     \n",
       " ∂ ⎛   2              4⎞\n",
       "───⎝2⋅x  + 2⋅x⋅y + 3⋅y ⎠\n",
       "  2                     \n",
       "∂x                      "
      ]
     },
     "execution_count": 40,
     "metadata": {},
     "output_type": "execute_result"
    },
    {
     "data": {
      "image/png": "[encoded data removed]",
      "text/latex": [
       "$\\displaystyle \\frac{\\partial^{2}}{\\partial x\\partial y} \\left(2 x^{2} + 2 x y + 3 y^{4}\\right)$"
      ],
      "text/plain": [
       "   2                      \n",
       "  ∂  ⎛   2              4⎞\n",
       "─────⎝2⋅x  + 2⋅x⋅y + 3⋅y ⎠\n",
       "∂x ∂y                     "
      ]
     },
     "execution_count": 40,
     "metadata": {},
     "output_type": "execute_result"
    },
    {
     "data": {
      "image/png": "[encoded data removed]",
      "text/latex": [
       "$\\displaystyle x^{5}$"
      ],
      "text/plain": [
       " 5\n",
       "x "
      ]
     },
     "execution_count": 40,
     "metadata": {},
     "output_type": "execute_result"
    },
    {
     "data": {
      "image/png": "[encoded data removed]",
      "text/latex": [
       "$\\displaystyle \\infty$"
      ],
      "text/plain": [
       "∞"
      ]
     },
     "execution_count": 40,
     "metadata": {},
     "output_type": "execute_result"
    },
    {
     "data": {
      "image/png": "[encoded data removed]",
      "text/latex": [
       "$\\displaystyle 0$"
      ],
      "text/plain": [
       "0"
      ]
     },
     "execution_count": 40,
     "metadata": {},
     "output_type": "execute_result"
    },
    {
     "data": {
      "image/png": "[encoded data removed]",
      "text/latex": [
       "$\\displaystyle \\left\\{ x : 2, \\  y : -1\\right\\}$"
      ],
      "text/plain": [
       "{x: 2, y: -1}"
      ]
     },
     "execution_count": 40,
     "metadata": {},
     "output_type": "execute_result"
    },
    {
     "data": {
      "image/png": "[encoded data removed]",
      "text/latex": [
       "$\\displaystyle \\left\\{1, - \\frac{1}{2} - \\frac{\\sqrt{3} i}{2}, - \\frac{1}{2} + \\frac{\\sqrt{3} i}{2}\\right\\}$"
      ],
      "text/plain": [
       "⎧     1   √3⋅ⅈ    1   √3⋅ⅈ⎫\n",
       "⎨1, - ─ - ────, - ─ + ────⎬\n",
       "⎩     2    2      2    2  ⎭"
      ]
     },
     "execution_count": 40,
     "metadata": {},
     "output_type": "execute_result"
    }
   ],
   "source": [
    "from sympy import *\n",
    "\n",
    "# 根据字符串建立表达式\n",
    "expr_raw = 'x**2 + 2*x + 1'\n",
    "sympify(expr_raw)\n",
    "\n",
    "# 展开\n",
    "x, y, z = symbols('x y z')\n",
    "y = expand((x + y + 1)**2)\n",
    "y\n",
    "\n",
    "z = factor(y)\n",
    "z\n",
    "# 合并同类项\n",
    "g = collect(y, x)\n",
    "g\n",
    "\n",
    "# 因式拆解\n",
    "p = apart(1/((1 + x)* (3 + x)))\n",
    "p\n",
    "\n",
    "# 因式\n",
    "q = together(p)\n",
    "q\n",
    "\n",
    "# 化简\n",
    "s = simplify(2*sin(x)*cos(x))\n",
    "s\n",
    "\n",
    "# 有理分式化简\n",
    "s = cancel((x**2 + 2*x + 1)/(x**2 + x))\n",
    "s\n",
    "\n",
    "p = Derivative(x**5, x, 3)\n",
    "p\n",
    "\n",
    "\n",
    "x, y, z = symbols('x y z')\n",
    "z = 2*x**2+3*y**4+2*x*y\n",
    "# 对x，y分别求导，即偏导\n",
    "z_x = Derivative(z, x, x)\n",
    "z_y = Derivative(z, y, x)\n",
    "\n",
    "z_x\n",
    "z_y\n",
    "\n",
    "q = integrate(p, x, x, x)\n",
    "q\n",
    "\n",
    "f = 1/x\n",
    "limit(f,x,0)\n",
    "# oo\n",
    "limit(f,x,oo)\n",
    "# 0\n",
    "\n",
    "# 一般方程\n",
    "solve([x + y - 1, x - y -3], [x, y])\n",
    "\n",
    "# 指定定义域\n",
    "solveset(Eq(x**3,1), x, domain=S.Complexes)\n",
    "\n",
    "\n",
    "\n"
   ]
  },
  {
   "cell_type": "code",
   "execution_count": null,
   "metadata": {},
   "outputs": [],
   "source": [
    "\n",
    "#  自定义函数,求其在x=0附近的泰勒展开(4项)\n",
    "x = symbols('x')\n",
    "fx = (x - sin(x)) / x ** 3\n",
    " \n",
    "# 级数展开：series(函数表达式, x0, n）,使用.removeO()去除皮亚诺余项，remove后面的o大写\n",
    "taylor_expansion_1 = fx.series(x, 0, 6)\n",
    "taylor_expansion_2 = fx.series(x, 0, 5).removeO()\n",
    "\n",
    "taylor_expansion_1\n",
    "taylor_expansion_2"
   ]
  }
 ],
 "metadata": {
  "kernelspec": {
   "display_name": "Python 3",
   "language": "python",
   "name": "python3"
  },
  "language_info": {
   "codemirror_mode": {
    "name": "ipython",
    "version": 3
   },
   "file_extension": ".py",
   "mimetype": "text/x-python",
   "name": "python",
   "nbconvert_exporter": "python",
   "pygments_lexer": "ipython3",
   "version": "3.11.4"
  },
  "orig_nbformat": 4,
  "vscode": {
   "interpreter": {
    "hash": "f9fa5edcc62cb2e78f177cf2bb643172ef720c80b99b3219806b9511d6398824"
   }
  }
 },
 "nbformat": 4,
 "nbformat_minor": 2
}
